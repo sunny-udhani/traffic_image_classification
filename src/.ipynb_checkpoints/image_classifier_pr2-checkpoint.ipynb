{
 "cells": [
  {
   "cell_type": "code",
   "execution_count": 1,
   "metadata": {},
   "outputs": [],
   "source": [
    "import pandas as pd\n",
    "import numpy as np\n",
    "from sklearn.preprocessing import StandardScaler\n",
    "import sklearn.manifold as manifold\n",
    "from numpy import genfromtxt\n",
    "from sklearn.metrics import classification_report\n",
    "from sklearn.preprocessing import normalize\n",
    "from sklearn.model_selection import train_test_split\n",
    "from sklearn.linear_model import SGDClassifier\n",
    "from sklearn.pipeline import Pipeline\n",
    "from sklearn.decomposition import PCA\n",
    "from sklearn.decomposition import TruncatedSVD\n",
    "from sklearn.svm import SVC\n",
    "from sklearn.manifold import LocallyLinearEmbedding\n",
    "from sklearn.manifold import SpectralEmbedding\n",
    "from sklearn.manifold import TSNE\n",
    "from sklearn.neighbors import KNeighborsClassifier\n",
    "from imblearn.over_sampling import SMOTE\n",
    "from sklearn.ensemble import RandomForestClassifier, AdaBoostClassifier\n",
    "import matplotlib.pyplot as plt\n",
    "%matplotlib inline\n",
    "from collections import Counter, defaultdict\n",
    "from sklearn.neural_network import MLPClassifier\n",
    "from sklearn.gaussian_process import GaussianProcessClassifier\n",
    "from sklearn.gaussian_process.kernels import RBF\n",
    "from sklearn.tree import DecisionTreeClassifier\n",
    "from sklearn.naive_bayes import GaussianNB\n",
    "from sklearn.naive_bayes import BernoulliNB"
   ]
  },
  {
   "cell_type": "code",
   "execution_count": 2,
   "metadata": {},
   "outputs": [],
   "source": [
    "def give_me_some_data(path_to_file, headers = None, separator = ',',float_precision = None):\n",
    "    if(path_to_file):\n",
    "        return pd.read_csv(\n",
    "            filepath_or_buffer=path_to_file, \n",
    "            header=headers, \n",
    "            sep=separator,\n",
    "            float_precision=float_precision\n",
    "        )"
   ]
  },
  {
   "cell_type": "code",
   "execution_count": 3,
   "metadata": {},
   "outputs": [],
   "source": [
    "def give_me_a_dr(dr_tech = \"PCA\", n_components = 40, n_neighbours = 100):\n",
    "    switcher = {\n",
    "        \"PCA\" : PCA(n_components=n_components),\n",
    "        \"TruncatedSVD\": TruncatedSVD(n_components=n_components),\n",
    "        \"LLE-Standard\": LocallyLinearEmbedding(n_neighbors=n_neighbours,\n",
    "                                             n_components=n_components, method = 'standard'),\n",
    "        \"LLE-Hessian\": LocallyLinearEmbedding(n_neighbors=n_neighbours,\n",
    "                                             n_components=n_components, method = 'hessian'),\n",
    "        \"spectral_embedding\": SpectralEmbedding(n_components=n_components, random_state=0,\n",
    "                                      eigen_solver=\"arpack\"),\n",
    "        \"tsne\": TSNE(n_components=n_components, init='pca', random_state=0)\n",
    "    }\n",
    "    return switcher[dr_tech]"
   ]
  },
  {
   "cell_type": "code",
   "execution_count": 12,
   "metadata": {},
   "outputs": [],
   "source": [
    "def give_me_a_classifier(classifier = \"SVC\", neighbours = None):\n",
    "    switcher = {\n",
    "        \"SVC\": SVC(C=1000, cache_size=200, class_weight=None, coef0=0.0,\n",
    "                  decision_function_shape='ovr', degree=3, gamma=2, kernel='linear',\n",
    "                  max_iter=-1, probability=False, random_state=42, shrinking=True,\n",
    "                  tol=0.001, verbose=False),\n",
    "        \"SGD\": SGDClassifier(random_state=42, max_iter=1000, tol=1e-3),\n",
    "        \"KNN\": KNeighborsClassifier(n_neighbors=neighbours),\n",
    "        \"RF\": RandomForestClassifier(n_estimators=neighbours, class_weight=\"balanced\"),\n",
    "        \"NN\": MLPClassifier(hidden_layer_sizes=(neighbours,neighbours,neighbours),max_iter=2000),\n",
    "        \"GP\":GaussianProcessClassifier(1.0 * RBF(1.0)),\n",
    "        \"boost\": AdaBoostClassifier(\n",
    "                                    DecisionTreeClassifier(max_depth=15),\n",
    "                                    n_estimators=600,\n",
    "                                    learning_rate=1.5,\n",
    "                                    algorithm=\"SAMME\"),\n",
    "        \"GNB\": GaussianNB(),\n",
    "        \"BNB\": BernoulliNB(),\n",
    "    }\n",
    "    return switcher[classifier]"
   ]
  },
  {
   "cell_type": "code",
   "execution_count": 5,
   "metadata": {},
   "outputs": [],
   "source": [
    "def give_me_a_pipeline(dr = None, classifier = None):\n",
    "    return  Pipeline(steps=[(\"DR\", dr), ('classify', classifier)])"
   ]
  },
  {
   "cell_type": "code",
   "execution_count": 6,
   "metadata": {},
   "outputs": [],
   "source": [
    "def fix_my_data_imbalance_pls(training_data, training_classes):\n",
    "    nm = SMOTE(random_state=21,k_neighbors=1,kind=\"regular\")\n",
    "    training_data = np.array(training_data)\n",
    "    training_data = normalize(training_data)\n",
    "#     print(training_data[:5])\n",
    "    training_classes = np.array(training_classes)\n",
    "    X_res, y_res = nm.fit_sample(training_data, training_classes)\n",
    "    labels, values = zip(*Counter(y_res).most_common())\n",
    "    indexes = np.arange(len(labels))\n",
    "    width = 1\n",
    "    plt.bar(indexes, values, width)\n",
    "    plt.xticks(indexes + width * 0.5, labels)\n",
    "    plt.show()\n",
    "    return X_res, y_res"
   ]
  },
  {
   "cell_type": "code",
   "execution_count": 13,
   "metadata": {},
   "outputs": [],
   "source": [
    "# read in the dataset\n",
    "training_data = give_me_some_data(\n",
    "    path_to_file='../data/train.dat', \n",
    "    headers=None, \n",
    "    separator=' ',\n",
    "    float_precision='high'\n",
    ")\n",
    "\n",
    "training_data = training_data[training_data.columns[832:880]]\n",
    "\n",
    "training_labels = give_me_some_data(\n",
    "    path_to_file='../data/train.labels', \n",
    "    headers=None, \n",
    ")\n",
    "\n",
    "\n",
    "\n",
    "test_data = give_me_some_data(\n",
    "    path_to_file='../data/test.dat', \n",
    "    headers=None, \n",
    "    separator=' ',\n",
    "    float_precision='high' \n",
    ")\n",
    "test_data = test_data[test_data.columns[832:880]]\n",
    "\n",
    "# test_data\n",
    "\n",
    "# df.to_csv(\"../data/aaj.csv\", sep='\\t', encoding='utf-8')\n",
    "# df.nunique().to_csv(\"../data/unique_vals.csv\", sep='\\t', encoding='utf-8')\n",
    "# cols = df.columns\n",
    "# for col in cols:\n",
    "#     df[col] = df[col].astype(float) \n",
    "# print(df)\n",
    "\n",
    "# extract the vectors from the Pandas data file\n",
    "# X = df.iloc[:,1:].values\n",
    "# df\n",
    "# my_data = np.loadtxt('../data/train.dat', delimiter=' ',dtype = np.float64)\n",
    "# np.set_printoptions(precision = 20)\n",
    "# my_data\n",
    "# df1 = pd.DataFrame(my_data)\n",
    "# df1\n",
    "\n",
    "# standardise the data\n",
    "# X_std = StandardScaler().fit_transform(X)"
   ]
  },
  {
   "cell_type": "code",
   "execution_count": 14,
   "metadata": {},
   "outputs": [
    {
     "name": "stderr",
     "output_type": "stream",
     "text": [
      "/Users/sudhani/anaconda3/lib/python3.6/site-packages/sklearn/utils/validation.py:578: DataConversionWarning: A column-vector y was passed when a 1d array was expected. Please change the shape of y to (n_samples, ), for example using ravel().\n",
      "  y = column_or_1d(y, warn=True)\n"
     ]
    },
    {
     "data": {
      "image/png": "[encoded data removed]",
      "text/plain": [
       "<Figure size 432x288 with 1 Axes>"
      ]
     },
     "metadata": {},
     "output_type": "display_data"
    }
   ],
   "source": [
    "training_data,training_labels = fix_my_data_imbalance_pls(training_data=training_data,training_classes=training_labels)"
   ]
  },
  {
   "cell_type": "code",
   "execution_count": 15,
   "metadata": {},
   "outputs": [],
   "source": [
    "X_train, X_test, y_train, y_test = train_test_split(\n",
    "    training_data,\n",
    "    training_labels,\n",
    "    test_size=0.2,\n",
    "    shuffle=True,\n",
    "    random_state=42,\n",
    ")\n"
   ]
  },
  {
   "cell_type": "code",
   "execution_count": 16,
   "metadata": {},
   "outputs": [
    {
     "name": "stdout",
     "output_type": "stream",
     "text": [
      "             precision    recall  f1-score   support\n",
      "\n",
      "          1       0.83      0.79      0.81      2098\n",
      "          2       0.78      0.83      0.80      2058\n",
      "          3       0.98      0.97      0.98      2126\n",
      "          4       1.00      1.00      1.00      2101\n",
      "          5       1.00      1.00      1.00      2060\n",
      "          6       1.00      1.00      1.00      2142\n",
      "          7       1.00      1.00      1.00      2033\n",
      "          8       0.99      1.00      0.99      2128\n",
      "         10       1.00      1.00      1.00      2031\n",
      "         11       1.00      1.00      1.00      1973\n",
      "\n",
      "avg / total       0.96      0.96      0.96     20750\n",
      "\n"
     ]
    }
   ],
   "source": [
    "# for k, v in dict.items():\n",
    "#     print(k,v)\n",
    "compute_pipeline = give_me_a_pipeline(give_me_a_dr(dr_tech=\"TruncatedSVD\"),give_me_a_classifier(classifier=\"boost\",neighbours=250))\n",
    "compute_pipeline.fit(X_train, y_train)\n",
    "\n",
    "# tsne=LocallyLinearEmbedding(n_neighbors=100,\n",
    "#                                              n_components=10, method = 'standard')\n",
    "# X_tsne = tsne.fit_transform(X_train,y_train)\n",
    "# RF = RandomForestClassifier(n_estimators=100)\n",
    "# RF.fit(X_tsne,y_train)\n",
    "y_pred = compute_pipeline.predict(X_test)\n",
    "print(classification_report(y_test, y_pred))"
   ]
  },
  {
   "cell_type": "code",
   "execution_count": null,
   "metadata": {},
   "outputs": [],
   "source": [
    "# for k, v in dict.items():\n",
    "#     print(k,v)\n",
    "\n",
    "\n",
    "\n",
    "X_train = np.vstack((X_train,X_test))\n",
    "y_train = np.append(y_train,y_test)\n",
    "\n",
    "compute_pipeline = give_me_a_pipeline(give_me_a_dr(dr_tech=\"TruncatedSVD\"),\n",
    "                                      give_me_a_classifier(classifier=\"boost\",neighbours=150))\n",
    "\n",
    "# tsne=TSNE(n_components=n_components, init='pca', random_state=0)\n",
    "# X_tsne = tsne.fit_transform(X,y_train)\n",
    "compute_pipeline.fit(X_train, y_train)\n",
    "y_pred = compute_pipeline.predict(test_data)\n",
    "# print(classification_report(y_test, y_pred))"
   ]
  },
  {
   "cell_type": "code",
   "execution_count": 11,
   "metadata": {},
   "outputs": [
    {
     "name": "stdout",
     "output_type": "stream",
     "text": [
      "(103750, 48)\n"
     ]
    }
   ],
   "source": [
    "print(X_train.shape)"
   ]
  },
  {
   "cell_type": "code",
   "execution_count": 12,
   "metadata": {},
   "outputs": [],
   "source": [
    "# print(\"Computing LLE embedding\")\n",
    "# X_r, err = manifold.locally_linear_embedding(training_data, n_neighbors=5000,\n",
    "#                                              n_components=50, method = 'hessian')\n",
    "# print(\"Done. Reconstruction error: %g\" % err)\n"
   ]
  },
  {
   "cell_type": "code",
   "execution_count": null,
   "metadata": {},
   "outputs": [],
   "source": [
    "with open('out.dat', 'w') as f:\n",
    "    for i in range(test_data.shape[0]):\n",
    "        f.write(\"%s\\n\" % (y_pred[i]))"
   ]
  },
  {
   "cell_type": "code",
   "execution_count": null,
   "metadata": {},
   "outputs": [],
   "source": []
  }
 ],
 "metadata": {
  "kernelspec": {
   "display_name": "Python 3",
   "language": "python",
   "name": "python3"
  },
  "language_info": {
   "codemirror_mode": {
    "name": "ipython",
    "version": 3
   },
   "file_extension": ".py",
   "mimetype": "text/x-python",
   "name": "python",
   "nbconvert_exporter": "python",
   "pygments_lexer": "ipython3",
   "version": "3.6.5"
  }
 },
 "nbformat": 4,
 "nbformat_minor": 1
}
